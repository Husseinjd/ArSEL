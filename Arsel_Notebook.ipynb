{
 "cells": [
  {
   "cell_type": "code",
   "execution_count": 1,
   "metadata": {},
   "outputs": [],
   "source": [
    "import pandas as pd\n",
    "import numpy as np\n",
    "import seaborn as sns\n",
    "import matplotlib.pyplot as plt\n",
    "from sklearn.metrics import confusion_matrix\n",
    "from data_utils import load_scores_data,load_text_xml,check_arsenl_data,check_duplicates_per_pos"
   ]
  },
  {
   "cell_type": "code",
   "execution_count": 2,
   "metadata": {},
   "outputs": [],
   "source": [
    "scores =load_scores_data('datasets/affectivetext_test.emotions.gold.csv')\n",
    "sent = load_text_xml('datasets/affectivetext_test.xml')"
   ]
  },
  {
   "cell_type": "code",
   "execution_count": 3,
   "metadata": {},
   "outputs": [
    {
     "data": {
      "text/html": [
       "<div>\n",
       "<style scoped>\n",
       "    .dataframe tbody tr th:only-of-type {\n",
       "        vertical-align: middle;\n",
       "    }\n",
       "\n",
       "    .dataframe tbody tr th {\n",
       "        vertical-align: top;\n",
       "    }\n",
       "\n",
       "    .dataframe thead th {\n",
       "        text-align: right;\n",
       "    }\n",
       "</style>\n",
       "<table border=\"1\" class=\"dataframe\">\n",
       "  <thead>\n",
       "    <tr style=\"text-align: right;\">\n",
       "      <th></th>\n",
       "      <th>id</th>\n",
       "      <th>anger</th>\n",
       "      <th>disgust</th>\n",
       "      <th>fear</th>\n",
       "      <th>joy</th>\n",
       "      <th>sadness</th>\n",
       "      <th>surprise</th>\n",
       "    </tr>\n",
       "  </thead>\n",
       "  <tbody>\n",
       "    <tr>\n",
       "      <th>count</th>\n",
       "      <td>1000.000000</td>\n",
       "      <td>1000.000000</td>\n",
       "      <td>1000.000000</td>\n",
       "      <td>1000.000000</td>\n",
       "      <td>1000.00000</td>\n",
       "      <td>1000.000000</td>\n",
       "      <td>1000.000000</td>\n",
       "    </tr>\n",
       "    <tr>\n",
       "      <th>mean</th>\n",
       "      <td>999.500000</td>\n",
       "      <td>8.563000</td>\n",
       "      <td>5.076000</td>\n",
       "      <td>16.144000</td>\n",
       "      <td>19.00300</td>\n",
       "      <td>18.494000</td>\n",
       "      <td>18.624000</td>\n",
       "    </tr>\n",
       "    <tr>\n",
       "      <th>std</th>\n",
       "      <td>288.819436</td>\n",
       "      <td>13.503347</td>\n",
       "      <td>10.027201</td>\n",
       "      <td>20.400182</td>\n",
       "      <td>21.08553</td>\n",
       "      <td>22.646077</td>\n",
       "      <td>14.165991</td>\n",
       "    </tr>\n",
       "    <tr>\n",
       "      <th>min</th>\n",
       "      <td>500.000000</td>\n",
       "      <td>0.000000</td>\n",
       "      <td>0.000000</td>\n",
       "      <td>0.000000</td>\n",
       "      <td>0.00000</td>\n",
       "      <td>0.000000</td>\n",
       "      <td>0.000000</td>\n",
       "    </tr>\n",
       "    <tr>\n",
       "      <th>25%</th>\n",
       "      <td>749.750000</td>\n",
       "      <td>0.000000</td>\n",
       "      <td>0.000000</td>\n",
       "      <td>0.000000</td>\n",
       "      <td>0.00000</td>\n",
       "      <td>0.000000</td>\n",
       "      <td>8.000000</td>\n",
       "    </tr>\n",
       "    <tr>\n",
       "      <th>50%</th>\n",
       "      <td>999.500000</td>\n",
       "      <td>1.000000</td>\n",
       "      <td>0.000000</td>\n",
       "      <td>8.000000</td>\n",
       "      <td>12.00000</td>\n",
       "      <td>11.000000</td>\n",
       "      <td>16.000000</td>\n",
       "    </tr>\n",
       "    <tr>\n",
       "      <th>75%</th>\n",
       "      <td>1249.250000</td>\n",
       "      <td>12.250000</td>\n",
       "      <td>7.000000</td>\n",
       "      <td>24.000000</td>\n",
       "      <td>35.00000</td>\n",
       "      <td>27.000000</td>\n",
       "      <td>25.000000</td>\n",
       "    </tr>\n",
       "    <tr>\n",
       "      <th>max</th>\n",
       "      <td>1499.000000</td>\n",
       "      <td>71.000000</td>\n",
       "      <td>87.000000</td>\n",
       "      <td>92.000000</td>\n",
       "      <td>84.00000</td>\n",
       "      <td>96.000000</td>\n",
       "      <td>87.000000</td>\n",
       "    </tr>\n",
       "  </tbody>\n",
       "</table>\n",
       "</div>"
      ],
      "text/plain": [
       "                id        anger      disgust         fear         joy  \\\n",
       "count  1000.000000  1000.000000  1000.000000  1000.000000  1000.00000   \n",
       "mean    999.500000     8.563000     5.076000    16.144000    19.00300   \n",
       "std     288.819436    13.503347    10.027201    20.400182    21.08553   \n",
       "min     500.000000     0.000000     0.000000     0.000000     0.00000   \n",
       "25%     749.750000     0.000000     0.000000     0.000000     0.00000   \n",
       "50%     999.500000     1.000000     0.000000     8.000000    12.00000   \n",
       "75%    1249.250000    12.250000     7.000000    24.000000    35.00000   \n",
       "max    1499.000000    71.000000    87.000000    92.000000    84.00000   \n",
       "\n",
       "           sadness     surprise  \n",
       "count  1000.000000  1000.000000  \n",
       "mean     18.494000    18.624000  \n",
       "std      22.646077    14.165991  \n",
       "min       0.000000     0.000000  \n",
       "25%       0.000000     8.000000  \n",
       "50%      11.000000    16.000000  \n",
       "75%      27.000000    25.000000  \n",
       "max      96.000000    87.000000  "
      ]
     },
     "execution_count": 3,
     "metadata": {},
     "output_type": "execute_result"
    }
   ],
   "source": [
    "scores.describe()"
   ]
  },
  {
   "cell_type": "code",
   "execution_count": 4,
   "metadata": {},
   "outputs": [],
   "source": [
    "#sns.pairplot(scores.iloc[:,1:],diag_kind='hist')"
   ]
  },
  {
   "cell_type": "code",
   "execution_count": 5,
   "metadata": {},
   "outputs": [],
   "source": [
    "#corr =scores.iloc[:,1:].corr()\n",
    "#plt.figure(figsize=(10,7))\n",
    "#sns.heatmap(corr, \n",
    "      #      xticklabels=corr.columns.values,\n",
    "      #      yticklabels=corr.columns.values,annot=True)"
   ]
  },
  {
   "cell_type": "code",
   "execution_count": 6,
   "metadata": {},
   "outputs": [],
   "source": [
    "#sns.boxplot(data=scores.iloc[:,1:])"
   ]
  },
  {
   "cell_type": "code",
   "execution_count": 7,
   "metadata": {},
   "outputs": [],
   "source": [
    "def view_text_by_results(df_scores,df_sentences,col,func=max):\n",
    "    \"\"\"\n",
    "    Returns one sentence from the given emotion column\n",
    "    based on a given function for the emotion values\n",
    "\n",
    "    Parameters:\n",
    "    ------------\n",
    "    df_scores: scores DataFrame\n",
    "    df_sentences : sentences Dataframe\n",
    "    col : emotion columns\n",
    "    func {max,'min',..}: function to apply to emotion values (default=max)\n",
    "\n",
    "    Returns\n",
    "    ------------\n",
    "    result : str\n",
    "    \"\"\"\n",
    "    max_value = df_scores.loc[df_scores[col] == func(df_scores[col]),'id'].tolist()[0]\n",
    "    return df_sentences.loc[df_sentences['id']== str(max_value),'text'].tolist()[0]"
   ]
  },
  {
   "cell_type": "code",
   "execution_count": 8,
   "metadata": {},
   "outputs": [
    {
     "name": "stdout",
     "output_type": "stream",
     "text": [
      "max anger: Israeli woman's tirade spurs PM outrage\n",
      "max disgust: Teacher charged with sex assault\n",
      "max fear: UK workers on alert for letter bombs\n",
      "max joy: Families celebrate return of sons\n",
      "max sadness: Iraqi death toll exceeded 34,000 in 2006, United Nations says\n",
      "max surprise: Man rides stationary bike for 85 hours\n",
      "--------------------------------\n",
      "min anger: Test to predict breast cancer relapse is approved\n",
      "min disgust: Test to predict breast cancer relapse is approved\n",
      "min fear: Sights and sounds from CES\n",
      "min joy: Trucks swallowed in subway collapse\n",
      "min sadness: Sights and sounds from CES\n",
      "min surprise: Golden Globes on their way\n"
     ]
    }
   ],
   "source": [
    "for col in scores.columns[1:]:\n",
    "    print('max '+col + ': ' + view_text_by_results(scores,sent,col,max))\n",
    "print('--------------------------------')\n",
    "for col in scores.columns[1:]:\n",
    "    print('min '+col + ': ' + view_text_by_results(scores,sent,col,min))"
   ]
  },
  {
   "cell_type": "code",
   "execution_count": 9,
   "metadata": {},
   "outputs": [
    {
     "name": "stdout",
     "output_type": "stream",
     "text": [
      "'arsel/arsenl_a.txt'\n",
      "'arsel/arsenl_v.txt'\n",
      "'arsel/arsenl_r.txt'\n",
      "'arsel/arsenl_n.txt'\n"
     ]
    }
   ],
   "source": [
    "for i in 'avrn':\n",
    "    print('\\'arsel/arsenl_'+i+'.txt\\'')\n",
    "   # check_arsenl_data('arsel/arsenl_'+i+'.txt')\n",
    "    #check_duplicates_per_pos('arsel/arsenl_'+i+'.txt')"
   ]
  },
  {
   "cell_type": "code",
   "execution_count": 10,
   "metadata": {},
   "outputs": [],
   "source": [
    "%load_ext autoreload\n",
    "%autoreload 2"
   ]
  },
  {
   "cell_type": "code",
   "execution_count": 45,
   "metadata": {},
   "outputs": [
    {
     "name": "stderr",
     "output_type": "stream",
     "text": [
      "C:\\Users\\PC\\Desktop\\Arsel\\data_utils.py:186: RuntimeWarning: invalid value encountered in true_divide\n",
      "  a = (a-min(a)) / (max(a)-min(a))\n"
     ]
    }
   ],
   "source": [
    "from arsel import Arsel\n",
    "from evaluator import Evaluator\n",
    "adj ='arsel/arsenl_a.txt'\n",
    "verb ='arsel/arsenl_v.txt'\n",
    "adv = 'arsel/arsenl_r.txt'\n",
    "nouns = 'arsel/arsenl_n.txt'\n",
    "\n",
    "ar_binary = Arsel(adj,nouns,verb,adv,binary=True)\n",
    "ar_binary.get_emotionScores('hAjis','noun')\n",
    "ar_norm = Arsel(adj,nouns,verb,adv,norm=True)\n",
    "ar_norm.get_emotionScores('hAjis','noun')\n",
    "\n",
    "ev = Evaluator(ar_norm)\n",
    "ev.load('datasets/Buckwalter_all_sentences_google_translated.txt','datasets/affectivetext_test.emotions.gold.csv',True)\n",
    "d = ev.dataset_info()"
   ]
  },
  {
   "cell_type": "code",
   "execution_count": 46,
   "metadata": {},
   "outputs": [
    {
     "data": {
      "text/plain": [
       "{'uniq_verbs_count': 324,\n",
       " 'uniq_nouns_count': 1571,\n",
       " 'uniq_advs_count': 7,\n",
       " 'uniq_adjs_count': 339,\n",
       " 'words_count': 7229,\n",
       " 'words_uniq': 2688,\n",
       " 'unsupported_count': 442,\n",
       " 'unsupported_uniq_count': 302,\n",
       " 'unsupported_pos_count': 114}"
      ]
     },
     "execution_count": 46,
     "metadata": {},
     "output_type": "execute_result"
    }
   ],
   "source": [
    "d"
   ]
  },
  {
   "cell_type": "code",
   "execution_count": 47,
   "metadata": {},
   "outputs": [
    {
     "data": {
      "text/plain": [
       "2241"
      ]
     },
     "execution_count": 47,
     "metadata": {},
     "output_type": "execute_result"
    }
   ],
   "source": []
  },
  {
   "cell_type": "code",
   "execution_count": 35,
   "metadata": {},
   "outputs": [
    {
     "data": {
      "text/plain": [
       "321"
      ]
     },
     "execution_count": 35,
     "metadata": {},
     "output_type": "execute_result"
    }
   ],
   "source": [
    "len(set(ev.buck_obj.buck_dict['verb']))"
   ]
  },
  {
   "cell_type": "code",
   "execution_count": 36,
   "metadata": {},
   "outputs": [
    {
     "data": {
      "text/plain": [
       "2424"
      ]
     },
     "execution_count": 36,
     "metadata": {},
     "output_type": "execute_result"
    }
   ],
   "source": [
    "321+1314+5+337+447"
   ]
  },
  {
   "cell_type": "code",
   "execution_count": 13,
   "metadata": {},
   "outputs": [],
   "source": [
    "l = [x[0] for x in ev.unsupported_madamira_list]"
   ]
  },
  {
   "cell_type": "code",
   "execution_count": 67,
   "metadata": {},
   "outputs": [
    {
     "data": {
      "text/plain": [
       "2866"
      ]
     },
     "execution_count": 67,
     "metadata": {},
     "output_type": "execute_result"
    }
   ],
   "source": [
    "2424+442"
   ]
  },
  {
   "cell_type": "code",
   "execution_count": 17,
   "metadata": {},
   "outputs": [
    {
     "data": {
      "text/plain": [
       "{'',\n",
       " '$',\n",
       " '$$wl',\n",
       " '$wAHn',\n",
       " '$wflyftrz',\n",
       " \"'\",\n",
       " '21st-Ø³ÙŠÙ†ØªÙˆØ±ÙŠ',\n",
       " '2M',\n",
       " '<fAkwys',\n",
       " '<ksbrs',\n",
       " '<kshAnj',\n",
       " '<njlykywn',\n",
       " '<rks',\n",
       " '<ybwd',\n",
       " '<yfryA',\n",
       " '<yrv',\n",
       " '<yrvlynk',\n",
       " '<yrwys',\n",
       " '<ysynbAyfA',\n",
       " '>dylAyd',\n",
       " '>jAks',\n",
       " '>kwrywm',\n",
       " '>lmndynjr',\n",
       " '>my$',\n",
       " '>mynws',\n",
       " '>ndrwmydA',\n",
       " '>ntArktykA',\n",
       " '>wbAmA',\n",
       " '>wbynyd',\n",
       " '>wdysyws',\n",
       " '>wfys',\n",
       " '>wjAy',\n",
       " '>wksfAm',\n",
       " '>wkwr',\n",
       " '>wrAkl',\n",
       " '>wrlyAnz',\n",
       " '>wtkry',\n",
       " '>wzfyst',\n",
       " '>ydwl',\n",
       " 'A',\n",
       " 'A380',\n",
       " 'AlAHtrAr',\n",
       " 'AlbAndA',\n",
       " 'AldEk',\n",
       " 'AljrAbyAt',\n",
       " 'AlkAkAw',\n",
       " 'Alkrykyt',\n",
       " 'AllqAHAt',\n",
       " 'AllystyryA',\n",
       " 'Almjrp',\n",
       " 'Almtswqyn',\n",
       " 'AlnybAly',\n",
       " 'AlrAtnj',\n",
       " 'Alrwkrz',\n",
       " 'Alrwkyz',\n",
       " 'AlsAlmwnylA',\n",
       " 'Alsynyp',\n",
       " 'AlzlAjAt',\n",
       " 'Al|ybwd',\n",
       " 'Amazon.com',\n",
       " 'Armstrwng',\n",
       " 'Arwyw',\n",
       " 'AwrlyAnz',\n",
       " 'Ayfl',\n",
       " 'Ayfrtwn',\n",
       " 'C',\n",
       " \"Eto'o\",\n",
       " 'G7',\n",
       " 'G7:',\n",
       " 'H.I.V.',\n",
       " 'H5N1',\n",
       " 'I-95',\n",
       " 'J.K.',\n",
       " 'L.A',\n",
       " 'N',\n",
       " 'PS3',\n",
       " 'R400',\n",
       " 'SPACE.com:',\n",
       " 'Sqy',\n",
       " 'X',\n",
       " 'bAbwn',\n",
       " 'bAl$lAny',\n",
       " 'bAlAHtrAr',\n",
       " 'bAnAnAkwndA',\n",
       " 'bArbArw',\n",
       " 'bAsrz',\n",
       " 'bAtrswn',\n",
       " 'bAvfAyndr',\n",
       " 'bb',\n",
       " 'bftAs',\n",
       " 'blAzyng',\n",
       " 'blswv',\n",
       " 'blwq',\n",
       " 'brAf',\n",
       " 'brAnjylynA',\n",
       " 'brnAnky',\n",
       " 'brwnks',\n",
       " 'bryv',\n",
       " 'btrAyws',\n",
       " 'bwbArA',\n",
       " 'bwlytyks',\n",
       " 'bwlywwd',\n",
       " 'bwrAt',\n",
       " 'bwrtyj',\n",
       " 'bwss',\n",
       " 'bwtnsy',\n",
       " 'by<m',\n",
       " 'bykyny',\n",
       " 'bylwgA',\n",
       " 'bynj',\n",
       " 'byryts',\n",
       " 'bysy',\n",
       " 'bywnsy',\n",
       " 'dAfydynkw',\n",
       " 'dAmylwlA',\n",
       " 'dAngy',\n",
       " 'dwnAblAys',\n",
       " 'dwrAnt',\n",
       " 'dyAz',\n",
       " 'dybArtd',\n",
       " 'fAtst',\n",
       " 'fAyrfwks',\n",
       " 'frAnz',\n",
       " 'frns',\n",
       " 'frydryk',\n",
       " 'fwlks',\n",
       " 'fwrt$n',\n",
       " 'fylyrs',\n",
       " 'fylyrz',\n",
       " 'fyrAry',\n",
       " 'fyryr',\n",
       " 'gAngwly',\n",
       " 'gArdAsyl',\n",
       " 'gAtwrs',\n",
       " 'glwb',\n",
       " 'grAmys',\n",
       " 'grwnhwlm',\n",
       " 'gry$Am',\n",
       " 'gwgl',\n",
       " 'gwt$l',\n",
       " 'gwydws',\n",
       " 'gyts',\n",
       " 'hAnybAl',\n",
       " 'hAstrt',\n",
       " 'hAsylbyk',\n",
       " 'hAwl',\n",
       " 'hAws',\n",
       " 'hwks',\n",
       " 'hyjly',\n",
       " 'hyks',\n",
       " 'hylm',\n",
       " 'hylyws',\n",
       " 'hytfAktwry',\n",
       " 'hyzyng',\n",
       " 'jAkAs',\n",
       " 'jAylz',\n",
       " 'jlwb',\n",
       " 'jrw',\n",
       " 'jwbwrg',\n",
       " 'jwdy',\n",
       " 'jwjl',\n",
       " 'jwstyn',\n",
       " 'jybswn',\n",
       " 'jylnhAl',\n",
       " 'kAny$kA',\n",
       " 'kAnyt',\n",
       " 'kArdz',\n",
       " 'kArfwn',\n",
       " 'kArfwr',\n",
       " 'kArtwnyzy',\n",
       " 'kAryktwry',\n",
       " 'kAtAnyA',\n",
       " 'kAtmAndw',\n",
       " 'klyjstrz',\n",
       " 'klywbAtrA',\n",
       " 'krnfAl',\n",
       " 'kryjr',\n",
       " 'kwlt',\n",
       " 'kwlts',\n",
       " 'kytyk',\n",
       " 'lmwrfy',\n",
       " 'lqAHAt',\n",
       " 'ls',\n",
       " 'lwhAn',\n",
       " 'lwkwntry',\n",
       " 'lwst',\n",
       " 'lwsyA',\n",
       " 'lyfyngstwn',\n",
       " 'lytfynynkw',\n",
       " 'lywt',\n",
       " 'mAgy',\n",
       " 'mAkyn',\n",
       " 'mAnkwsw',\n",
       " 'mAnyng',\n",
       " 'mArsyA',\n",
       " 'mArtynz',\n",
       " 'mAsAkw',\n",
       " 'mAtywz',\n",
       " 'mAvywz',\n",
       " 'mbyky',\n",
       " 'mfb',\n",
       " 'mwkngbyrd',\n",
       " 'mwndy',\n",
       " 'mwnstrs',\n",
       " 'mwrAy',\n",
       " 'mwrfys',\n",
       " 'mwrysy',\n",
       " 'mwys',\n",
       " 'myjA',\n",
       " 'mykylswn',\n",
       " 'myrkl',\n",
       " 'myrymAn',\n",
       " 'myss',\n",
       " 'mystryAl',\n",
       " 'mytrAfyl',\n",
       " 'nAbstr',\n",
       " 'nAdAl',\n",
       " 'nAskAr',\n",
       " 'nm*jp',\n",
       " 'nwkyA',\n",
       " 'nwrbyt',\n",
       " 'nwrvAstr',\n",
       " 'nybAl',\n",
       " 'nykArAgwA',\n",
       " 'nylsn',\n",
       " 'nywk',\n",
       " 'nywswm',\n",
       " 'nywyrv',\n",
       " 'rvlysbrjr',\n",
       " 'rwbrydw',\n",
       " 'rwdyk',\n",
       " 'rwlyng',\n",
       " 'rwlynj',\n",
       " 'rwndwb',\n",
       " 'rwsrt',\n",
       " 'ryfylz',\n",
       " 'rylwsyf',\n",
       " 'ryt',\n",
       " 'sA*rlAnd',\n",
       " 'sAmswnj',\n",
       " 'sArkwzy',\n",
       " 'sbAswwAkr',\n",
       " 'sbwtnyk',\n",
       " 'sbys',\n",
       " 'sfyndAl',\n",
       " 'skwrbywn',\n",
       " 'slyd',\n",
       " 'slywvs',\n",
       " 'snwbyrdz',\n",
       " 'snwrkylr',\n",
       " 'srwAn',\n",
       " 'srybrynytsA',\n",
       " 'ssywn',\n",
       " 'stwmb',\n",
       " 'stwnhnj',\n",
       " 'stylrz',\n",
       " 'swbyrjwmbw',\n",
       " 'swlbrg',\n",
       " 'syhwks',\n",
       " 'syrndybyty',\n",
       " 'sys',\n",
       " 'syskw',\n",
       " 'systAs',\n",
       " 'syz',\n",
       " 'tAmbw',\n",
       " 'tkbyl',\n",
       " 'trAmb',\n",
       " 'tw$ybA',\n",
       " 'twrnbyk',\n",
       " 'ty$',\n",
       " 'tyfw',\n",
       " 'tyksAn',\n",
       " 'tymbrlyk',\n",
       " 'tymbw',\n",
       " 'tyrAy',\n",
       " 'tyrnr',\n",
       " 'tytl',\n",
       " 'tywnz',\n",
       " 'vAylAnd',\n",
       " 'vrylfyl',\n",
       " 'wAmbw',\n",
       " 'wArhws',\n",
       " 'wArywwyr',\n",
       " 'wjwydws',\n",
       " 'wnykArAgwA',\n",
       " 'wrdzmyv',\n",
       " 'wwrld',\n",
       " 'wykyt',\n",
       " 'wylknswn',\n",
       " 'wyzArdry',\n",
       " 'yAhw',\n",
       " 'ynhywn',\n",
       " 'ytnAgm',\n",
       " 'ywnylyfr',\n",
       " 'ywrwbwnd',\n",
       " 'ywrwfysywn',\n",
       " 'ywtwb',\n",
       " 'ywtywb',\n",
       " 'zAbl',\n",
       " 'zAk',\n",
       " '|',\n",
       " \"ÙƒØ§Ø±ÙˆÙ„ÙŠÙ†Ø§'s,\"}"
      ]
     },
     "execution_count": 17,
     "metadata": {},
     "output_type": "execute_result"
    }
   ],
   "source": [
    "set(l)"
   ]
  },
  {
   "cell_type": "code",
   "execution_count": null,
   "metadata": {},
   "outputs": [],
   "source": []
  },
  {
   "cell_type": "code",
   "execution_count": null,
   "metadata": {},
   "outputs": [],
   "source": []
  }
 ],
 "metadata": {
  "kernelspec": {
   "display_name": "Python 3",
   "language": "python",
   "name": "python3"
  },
  "language_info": {
   "codemirror_mode": {
    "name": "ipython",
    "version": 3
   },
   "file_extension": ".py",
   "mimetype": "text/x-python",
   "name": "python",
   "nbconvert_exporter": "python",
   "pygments_lexer": "ipython3",
   "version": "3.6.5"
  }
 },
 "nbformat": 4,
 "nbformat_minor": 2
}
