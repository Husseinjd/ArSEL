{
 "cells": [
  {
   "cell_type": "code",
   "execution_count": 1,
   "metadata": {},
   "outputs": [],
   "source": []
  },
  {
   "cell_type": "code",
   "execution_count": 2,
   "metadata": {},
   "outputs": [],
   "source": [
    "import pandas as pd\n",
    "import numpy as np\n",
    "import seaborn as sns\n",
    "import matplotlib.pyplot as plt\n",
    "from sklearn.metrics import confusion_matrix\n",
    "from data_utils import load_scores_data,load_text_xml,check_arsenl_data,check_duplicates_per_pos"
   ]
  },
  {
   "cell_type": "code",
   "execution_count": 3,
   "metadata": {},
   "outputs": [],
   "source": [
    "scores =load_scores_data('datasets/affectivetext_test.emotions.gold.csv')\n",
    "sent = load_text_xml('datasets/affectivetext_test.xml')"
   ]
  },
  {
   "cell_type": "code",
   "execution_count": 4,
   "metadata": {},
   "outputs": [
    {
     "data": {
      "text/html": [
       "<div>\n",
       "<style scoped>\n",
       "    .dataframe tbody tr th:only-of-type {\n",
       "        vertical-align: middle;\n",
       "    }\n",
       "\n",
       "    .dataframe tbody tr th {\n",
       "        vertical-align: top;\n",
       "    }\n",
       "\n",
       "    .dataframe thead th {\n",
       "        text-align: right;\n",
       "    }\n",
       "</style>\n",
       "<table border=\"1\" class=\"dataframe\">\n",
       "  <thead>\n",
       "    <tr style=\"text-align: right;\">\n",
       "      <th></th>\n",
       "      <th>id</th>\n",
       "      <th>anger</th>\n",
       "      <th>disgust</th>\n",
       "      <th>fear</th>\n",
       "      <th>joy</th>\n",
       "      <th>sadness</th>\n",
       "      <th>surprise</th>\n",
       "    </tr>\n",
       "  </thead>\n",
       "  <tbody>\n",
       "    <tr>\n",
       "      <th>count</th>\n",
       "      <td>1000.000000</td>\n",
       "      <td>1000.000000</td>\n",
       "      <td>1000.000000</td>\n",
       "      <td>1000.000000</td>\n",
       "      <td>1000.00000</td>\n",
       "      <td>1000.000000</td>\n",
       "      <td>1000.000000</td>\n",
       "    </tr>\n",
       "    <tr>\n",
       "      <th>mean</th>\n",
       "      <td>999.500000</td>\n",
       "      <td>8.563000</td>\n",
       "      <td>5.076000</td>\n",
       "      <td>16.144000</td>\n",
       "      <td>19.00300</td>\n",
       "      <td>18.494000</td>\n",
       "      <td>18.624000</td>\n",
       "    </tr>\n",
       "    <tr>\n",
       "      <th>std</th>\n",
       "      <td>288.819436</td>\n",
       "      <td>13.503347</td>\n",
       "      <td>10.027201</td>\n",
       "      <td>20.400182</td>\n",
       "      <td>21.08553</td>\n",
       "      <td>22.646077</td>\n",
       "      <td>14.165991</td>\n",
       "    </tr>\n",
       "    <tr>\n",
       "      <th>min</th>\n",
       "      <td>500.000000</td>\n",
       "      <td>0.000000</td>\n",
       "      <td>0.000000</td>\n",
       "      <td>0.000000</td>\n",
       "      <td>0.00000</td>\n",
       "      <td>0.000000</td>\n",
       "      <td>0.000000</td>\n",
       "    </tr>\n",
       "    <tr>\n",
       "      <th>25%</th>\n",
       "      <td>749.750000</td>\n",
       "      <td>0.000000</td>\n",
       "      <td>0.000000</td>\n",
       "      <td>0.000000</td>\n",
       "      <td>0.00000</td>\n",
       "      <td>0.000000</td>\n",
       "      <td>8.000000</td>\n",
       "    </tr>\n",
       "    <tr>\n",
       "      <th>50%</th>\n",
       "      <td>999.500000</td>\n",
       "      <td>1.000000</td>\n",
       "      <td>0.000000</td>\n",
       "      <td>8.000000</td>\n",
       "      <td>12.00000</td>\n",
       "      <td>11.000000</td>\n",
       "      <td>16.000000</td>\n",
       "    </tr>\n",
       "    <tr>\n",
       "      <th>75%</th>\n",
       "      <td>1249.250000</td>\n",
       "      <td>12.250000</td>\n",
       "      <td>7.000000</td>\n",
       "      <td>24.000000</td>\n",
       "      <td>35.00000</td>\n",
       "      <td>27.000000</td>\n",
       "      <td>25.000000</td>\n",
       "    </tr>\n",
       "    <tr>\n",
       "      <th>max</th>\n",
       "      <td>1499.000000</td>\n",
       "      <td>71.000000</td>\n",
       "      <td>87.000000</td>\n",
       "      <td>92.000000</td>\n",
       "      <td>84.00000</td>\n",
       "      <td>96.000000</td>\n",
       "      <td>87.000000</td>\n",
       "    </tr>\n",
       "  </tbody>\n",
       "</table>\n",
       "</div>"
      ],
      "text/plain": [
       "                id        anger      disgust         fear         joy  \\\n",
       "count  1000.000000  1000.000000  1000.000000  1000.000000  1000.00000   \n",
       "mean    999.500000     8.563000     5.076000    16.144000    19.00300   \n",
       "std     288.819436    13.503347    10.027201    20.400182    21.08553   \n",
       "min     500.000000     0.000000     0.000000     0.000000     0.00000   \n",
       "25%     749.750000     0.000000     0.000000     0.000000     0.00000   \n",
       "50%     999.500000     1.000000     0.000000     8.000000    12.00000   \n",
       "75%    1249.250000    12.250000     7.000000    24.000000    35.00000   \n",
       "max    1499.000000    71.000000    87.000000    92.000000    84.00000   \n",
       "\n",
       "           sadness     surprise  \n",
       "count  1000.000000  1000.000000  \n",
       "mean     18.494000    18.624000  \n",
       "std      22.646077    14.165991  \n",
       "min       0.000000     0.000000  \n",
       "25%       0.000000     8.000000  \n",
       "50%      11.000000    16.000000  \n",
       "75%      27.000000    25.000000  \n",
       "max      96.000000    87.000000  "
      ]
     },
     "execution_count": 4,
     "metadata": {},
     "output_type": "execute_result"
    }
   ],
   "source": [
    "scores.describe()"
   ]
  },
  {
   "cell_type": "code",
   "execution_count": 5,
   "metadata": {},
   "outputs": [],
   "source": [
    "#sns.pairplot(scores.iloc[:,1:],diag_kind='hist')"
   ]
  },
  {
   "cell_type": "code",
   "execution_count": 6,
   "metadata": {},
   "outputs": [],
   "source": [
    "#corr =scores.iloc[:,1:].corr()\n",
    "#plt.figure(figsize=(10,7))\n",
    "#sns.heatmap(corr, \n",
    "      #      xticklabels=corr.columns.values,\n",
    "      #      yticklabels=corr.columns.values,annot=True)"
   ]
  },
  {
   "cell_type": "code",
   "execution_count": 7,
   "metadata": {},
   "outputs": [],
   "source": [
    "#sns.boxplot(data=scores.iloc[:,1:])"
   ]
  },
  {
   "cell_type": "code",
   "execution_count": 9,
   "metadata": {},
   "outputs": [],
   "source": [
    "def view_text_by_results(df_scores,df_sentences,col,func=max):\n",
    "    \"\"\"\n",
    "    Returns one sentence from the given emotion column\n",
    "    based on a given function for the emotion values\n",
    "\n",
    "    Parameters:\n",
    "    ------------\n",
    "    df_scores: scores DataFrame\n",
    "    df_sentences : sentences Dataframe\n",
    "    col : emotion columns\n",
    "    func {max,'min',..}: function to apply to emotion values (default=max)\n",
    "\n",
    "    Returns\n",
    "    ------------\n",
    "    result : str\n",
    "    \"\"\"\n",
    "    max_value = df_scores.loc[df_scores[col] == func(df_scores[col]),'id'].tolist()[0]\n",
    "    return df_sentences.loc[df_sentences['id']== str(max_value),'text'].tolist()[0]"
   ]
  },
  {
   "cell_type": "code",
   "execution_count": 10,
   "metadata": {},
   "outputs": [
    {
     "name": "stdout",
     "output_type": "stream",
     "text": [
      "max anger: Israeli woman's tirade spurs PM outrage\n",
      "max disgust: Teacher charged with sex assault\n",
      "max fear: UK workers on alert for letter bombs\n",
      "max joy: Families celebrate return of sons\n",
      "max sadness: Iraqi death toll exceeded 34,000 in 2006, United Nations says\n",
      "max surprise: Man rides stationary bike for 85 hours\n",
      "--------------------------------\n",
      "min anger: Test to predict breast cancer relapse is approved\n",
      "min disgust: Test to predict breast cancer relapse is approved\n",
      "min fear: Sights and sounds from CES\n",
      "min joy: Trucks swallowed in subway collapse\n",
      "min sadness: Sights and sounds from CES\n",
      "min surprise: Golden Globes on their way\n"
     ]
    }
   ],
   "source": [
    "for col in scores.columns[1:]:\n",
    "    print('max '+col + ': ' + view_text_by_results(scores,sent,col,max))\n",
    "print('--------------------------------')\n",
    "for col in scores.columns[1:]:\n",
    "    print('min '+col + ': ' + view_text_by_results(scores,sent,col,min))"
   ]
  },
  {
   "cell_type": "code",
   "execution_count": 11,
   "metadata": {},
   "outputs": [
    {
     "name": "stdout",
     "output_type": "stream",
     "text": [
      "'arsel/arsenl_a.txt'\n",
      "'arsel/arsenl_v.txt'\n",
      "'arsel/arsenl_r.txt'\n",
      "'arsel/arsenl_n.txt'\n"
     ]
    }
   ],
   "source": [
    "for i in 'avrn':\n",
    "    print('\\'arsel/arsenl_'+i+'.txt\\'')\n",
    "   # check_arsenl_data('arsel/arsenl_'+i+'.txt')\n",
    "    #check_duplicates_per_pos('arsel/arsenl_'+i+'.txt')"
   ]
  },
  {
   "cell_type": "code",
   "execution_count": 1,
   "metadata": {},
   "outputs": [],
   "source": [
    "%load_ext autoreload\n",
    "%autoreload 2"
   ]
  },
  {
   "cell_type": "code",
   "execution_count": 38,
   "metadata": {},
   "outputs": [
    {
     "name": "stderr",
     "output_type": "stream",
     "text": [
      "C:\\Users\\PC\\Desktop\\Arsel\\data_utils.py:186: RuntimeWarning: invalid value encountered in true_divide\n",
      "  a = (a-min(a)) / (max(a)-min(a))\n"
     ]
    }
   ],
   "source": [
    "from arsel import Arsel\n",
    "from evaluator import Evaluator\n",
    "adj ='arsel/arsenl_a.txt'\n",
    "verb ='arsel/arsenl_v.txt'\n",
    "adv = 'arsel/arsenl_r.txt'\n",
    "nouns = 'arsel/arsenl_n.txt'\n",
    "ar_binary = Arsel(adj,nouns,verb,adv,binary=True)\n",
    "ar_binary.get_emotionScores('hAjis','noun')\n",
    "ar_norm = Arsel(adj,nouns,verb,adv,norm=True)\n",
    "ar_norm.get_emotionScores('hAjis','noun')\n",
    "\n",
    "ev = Evaluator(ar_norm)\n",
    "ev.load('datasets/Buckwalter_all_sentences_google_translated.txt','datasets/affectivetext_test.emotions.gold.csv')"
   ]
  },
  {
   "cell_type": "code",
   "execution_count": 39,
   "metadata": {},
   "outputs": [
    {
     "name": "stdout",
     "output_type": "stream",
     "text": [
      "\" maqAl_1;noun :_0;punc Ean_1;prep h`*A_1;pron_dem EanaY-i_1;verb silosilap_1;noun min_1;prep li-_1;prep :_0;punc Tib~_1;noun nafosiy~_1;adj >amokan_1;verb >ano_1;conj_sub faEal-a_1;verb faqaT_1;adv kaviyr_2;adj \"\n",
      "word count: 16\n",
      "verb count: 3\n",
      "noun count: 3\n",
      "adverb count: 1\n",
      "adjective count: 2\n",
      "unsupported pos count: 7\n",
      "unsupported word count: 0\n",
      "\n"
     ]
    }
   ],
   "source": [
    "print(ev.dict_buckwalter[546])\n"
   ]
  },
  {
   "cell_type": "code",
   "execution_count": 40,
   "metadata": {},
   "outputs": [],
   "source": [
    "bk = 'tam~-i_1;verb muwAfaqap_1;noun EalaY_1;prep {ixotibAr_1;noun tanab~u&_1;noun {inotikAs_1;noun saraTAn_1;noun vadoy_1;noun'\n"
   ]
  },
  {
   "cell_type": "code",
   "execution_count": 41,
   "metadata": {},
   "outputs": [],
   "source": [
    "d = ev.dataset_info()"
   ]
  },
  {
   "cell_type": "code",
   "execution_count": 42,
   "metadata": {},
   "outputs": [
    {
     "data": {
      "text/plain": [
       "{'verbs_count': 747,\n",
       " 'nouns_count': 3141,\n",
       " 'advs_count': 10,\n",
       " 'adjs_count': 721,\n",
       " 'words_count': 6787,\n",
       " 'word_uniq_count': 1944,\n",
       " 'unsupported_count': 442,\n",
       " 'unsupported_pos_count': 2168}"
      ]
     },
     "execution_count": 42,
     "metadata": {},
     "output_type": "execute_result"
    }
   ],
   "source": [
    "d"
   ]
  },
  {
   "cell_type": "code",
   "execution_count": 44,
   "metadata": {},
   "outputs": [
    {
     "name": "stdout",
     "output_type": "stream",
     "text": [
      "6787\n"
     ]
    }
   ],
   "source": [
    "print(747+3141+10+721+2168)"
   ]
  },
  {
   "cell_type": "code",
   "execution_count": 21,
   "metadata": {},
   "outputs": [
    {
     "data": {
      "text/plain": [
       "7"
      ]
     },
     "execution_count": 21,
     "metadata": {},
     "output_type": "execute_result"
    }
   ],
   "source": [
    "len(d.keys())"
   ]
  },
  {
   "cell_type": "code",
   "execution_count": 30,
   "metadata": {},
   "outputs": [
    {
     "data": {
      "text/plain": [
       "[1, 1, 2]"
      ]
     },
     "execution_count": 30,
     "metadata": {},
     "output_type": "execute_result"
    }
   ],
   "source": [
    "[1] + [1,2]"
   ]
  },
  {
   "cell_type": "code",
   "execution_count": 32,
   "metadata": {},
   "outputs": [],
   "source": [
    "m =['hello','me','me','ajskd']"
   ]
  },
  {
   "cell_type": "code",
   "execution_count": 33,
   "metadata": {},
   "outputs": [
    {
     "data": {
      "text/plain": [
       "{'ajskd', 'hello', 'me'}"
      ]
     },
     "execution_count": 33,
     "metadata": {},
     "output_type": "execute_result"
    }
   ],
   "source": [
    "set(m)"
   ]
  },
  {
   "cell_type": "code",
   "execution_count": 49,
   "metadata": {},
   "outputs": [],
   "source": [
    "w = 'hello_me-'"
   ]
  },
  {
   "cell_type": "code",
   "execution_count": 50,
   "metadata": {},
   "outputs": [
    {
     "data": {
      "text/plain": [
       "'hello_me-'"
      ]
     },
     "execution_count": 50,
     "metadata": {},
     "output_type": "execute_result"
    }
   ],
   "source": [
    "w"
   ]
  },
  {
   "cell_type": "code",
   "execution_count": 52,
   "metadata": {},
   "outputs": [
    {
     "data": {
      "text/plain": [
       "'hellome-'"
      ]
     },
     "execution_count": 52,
     "metadata": {},
     "output_type": "execute_result"
    }
   ],
   "source": [
    "w.replace('_','')"
   ]
  },
  {
   "cell_type": "code",
   "execution_count": null,
   "metadata": {},
   "outputs": [],
   "source": []
  }
 ],
 "metadata": {
  "kernelspec": {
   "display_name": "Python 3",
   "language": "python",
   "name": "python3"
  },
  "language_info": {
   "codemirror_mode": {
    "name": "ipython",
    "version": 3
   },
   "file_extension": ".py",
   "mimetype": "text/x-python",
   "name": "python",
   "nbconvert_exporter": "python",
   "pygments_lexer": "ipython3",
   "version": "3.6.5"
  }
 },
 "nbformat": 4,
 "nbformat_minor": 2
}
