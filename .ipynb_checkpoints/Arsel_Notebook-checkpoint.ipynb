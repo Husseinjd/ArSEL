{
 "cells": [
  {
   "cell_type": "code",
   "execution_count": 116,
   "metadata": {},
   "outputs": [
    {
     "name": "stdout",
     "output_type": "stream",
     "text": [
      "The autoreload extension is already loaded. To reload it, use:\n",
      "  %reload_ext autoreload\n"
     ]
    }
   ],
   "source": [
    "%load_ext autoreload\n",
    "%autoreload 2"
   ]
  },
  {
   "cell_type": "code",
   "execution_count": 117,
   "metadata": {},
   "outputs": [
    {
     "data": {
      "text/plain": [
       "[0.10556916, 0.12719864, 0.08753424, 0.10773664, 0.09239893, 0.21414904]"
      ]
     },
     "execution_count": 117,
     "metadata": {},
     "output_type": "execute_result"
    }
   ],
   "source": [
    "from arsel import Arsel\n",
    "\n",
    "#The full arsel lexicon should be sorted into these four categories before use\n",
    "#only a sample of arsel is provided here\n",
    "adj ='arsel/arsel_a.txt'\n",
    "verb ='arsel/arsel_v.txt'\n",
    "adv = 'arsel/arsel_r.txt'\n",
    "nouns = 'arsel/arsel_n.txt'\n",
    "\n",
    "ar = Arsel(adj,nouns,verb,adv)\n",
    "ar.get_emotionScores_word('hAjis','noun')"
   ]
  },
  {
   "cell_type": "code",
   "execution_count": 118,
   "metadata": {},
   "outputs": [
    {
     "data": {
      "text/plain": [
       "[0, 0, 0, 0, 1, 1]"
      ]
     },
     "execution_count": 118,
     "metadata": {},
     "output_type": "execute_result"
    }
   ],
   "source": [
    "info = ar.get_emotionScores_sentence('<inokilotirA_1;noun_prop $amil-a_1;verb jAylz fiy_1;prep miroHAD_1;noun',\n",
    "                                     norm=False,binary=True\n",
    "                                     ,threshold= 0.02)\n",
    "info"
   ]
  }
 ],
 "metadata": {
  "kernelspec": {
   "display_name": "Python 3",
   "language": "python",
   "name": "python3"
  },
  "language_info": {
   "codemirror_mode": {
    "name": "ipython",
    "version": 3
   },
   "file_extension": ".py",
   "mimetype": "text/x-python",
   "name": "python",
   "nbconvert_exporter": "python",
   "pygments_lexer": "ipython3",
   "version": "3.6.5"
  }
 },
 "nbformat": 4,
 "nbformat_minor": 2
}
