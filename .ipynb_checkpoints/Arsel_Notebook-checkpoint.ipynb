{
 "cells": [
  {
   "cell_type": "code",
   "execution_count": 116,
   "metadata": {},
   "outputs": [
    {
     "name": "stdout",
     "output_type": "stream",
     "text": [
      "The autoreload extension is already loaded. To reload it, use:\n",
      "  %reload_ext autoreload\n"
     ]
    }
   ],
   "source": [
    "%load_ext autoreload\n",
    "%autoreload 2"
   ]
  },
  {
   "cell_type": "code",
   "execution_count": 117,
   "metadata": {},
   "outputs": [
    {
     "data": {
      "text/plain": [
       "[0.10556916, 0.12719864, 0.08753424, 0.10773664, 0.09239893, 0.21414904]"
      ]
     },
     "execution_count": 117,
     "metadata": {},
     "output_type": "execute_result"
    }
   ],
   "source": [
    "from arsel import Arsel\n",
    "\n",
    "#The full arsel lexicon should be sorted into these four categories before use\n",
    "#only a sample of arsel is provided here\n",
    "adj ='arsel/arsel_a.txt'\n",
    "verb ='arsel/arsel_v.txt'\n",
    "adv = 'arsel/arsel_r.txt'\n",
    "nouns = 'arsel/arsel_n.txt'\n",
    "\n",
    "ar = Arsel(adj,nouns,verb,adv)\n",
    "ar.get_emotionScores_word('hAjis','noun')"
   ]
  },
  {
   "cell_type": "code",
   "execution_count": 119,
   "metadata": {},
   "outputs": [
    {
     "data": {
      "text/html": [
       "<div>\n",
       "<style scoped>\n",
       "    .dataframe tbody tr th:only-of-type {\n",
       "        vertical-align: middle;\n",
       "    }\n",
       "\n",
       "    .dataframe tbody tr th {\n",
       "        vertical-align: top;\n",
       "    }\n",
       "\n",
       "    .dataframe thead th {\n",
       "        text-align: right;\n",
       "    }\n",
       "</style>\n",
       "<table border=\"1\" class=\"dataframe\">\n",
       "  <thead>\n",
       "    <tr style=\"text-align: right;\">\n",
       "      <th></th>\n",
       "      <th>Word</th>\n",
       "      <th>Anger</th>\n",
       "      <th>Disgust</th>\n",
       "      <th>Fear</th>\n",
       "      <th>Joy</th>\n",
       "      <th>Sadness</th>\n",
       "      <th>Surprise</th>\n",
       "      <th>Not_Found</th>\n",
       "      <th>Not_Supported_MADAMIRA</th>\n",
       "      <th>Not_Supported_POS</th>\n",
       "    </tr>\n",
       "  </thead>\n",
       "  <tbody>\n",
       "    <tr>\n",
       "      <th>0</th>\n",
       "      <td>&lt;inokilotirA</td>\n",
       "      <td>0.048004</td>\n",
       "      <td>0.132779</td>\n",
       "      <td>0.109848</td>\n",
       "      <td>0.136539</td>\n",
       "      <td>0.152513</td>\n",
       "      <td>0.116993</td>\n",
       "      <td>0.0</td>\n",
       "      <td>0.0</td>\n",
       "      <td>0.0</td>\n",
       "    </tr>\n",
       "    <tr>\n",
       "      <th>1</th>\n",
       "      <td>$amila</td>\n",
       "      <td>NaN</td>\n",
       "      <td>NaN</td>\n",
       "      <td>NaN</td>\n",
       "      <td>NaN</td>\n",
       "      <td>NaN</td>\n",
       "      <td>NaN</td>\n",
       "      <td>1.0</td>\n",
       "      <td>0.0</td>\n",
       "      <td>0.0</td>\n",
       "    </tr>\n",
       "    <tr>\n",
       "      <th>2</th>\n",
       "      <td>[jAylz]</td>\n",
       "      <td>NaN</td>\n",
       "      <td>NaN</td>\n",
       "      <td>NaN</td>\n",
       "      <td>NaN</td>\n",
       "      <td>NaN</td>\n",
       "      <td>NaN</td>\n",
       "      <td>0.0</td>\n",
       "      <td>1.0</td>\n",
       "      <td>0.0</td>\n",
       "    </tr>\n",
       "    <tr>\n",
       "      <th>3</th>\n",
       "      <td>fiy</td>\n",
       "      <td>NaN</td>\n",
       "      <td>NaN</td>\n",
       "      <td>NaN</td>\n",
       "      <td>NaN</td>\n",
       "      <td>NaN</td>\n",
       "      <td>NaN</td>\n",
       "      <td>0.0</td>\n",
       "      <td>0.0</td>\n",
       "      <td>1.0</td>\n",
       "    </tr>\n",
       "    <tr>\n",
       "      <th>4</th>\n",
       "      <td>miroHAD</td>\n",
       "      <td>0.128168</td>\n",
       "      <td>0.089423</td>\n",
       "      <td>0.048100</td>\n",
       "      <td>0.105662</td>\n",
       "      <td>0.142594</td>\n",
       "      <td>0.198367</td>\n",
       "      <td>0.0</td>\n",
       "      <td>0.0</td>\n",
       "      <td>0.0</td>\n",
       "    </tr>\n",
       "  </tbody>\n",
       "</table>\n",
       "</div>"
      ],
      "text/plain": [
       "           Word     Anger   Disgust      Fear       Joy   Sadness  Surprise  \\\n",
       "0  <inokilotirA  0.048004  0.132779  0.109848  0.136539  0.152513  0.116993   \n",
       "1        $amila       NaN       NaN       NaN       NaN       NaN       NaN   \n",
       "2       [jAylz]       NaN       NaN       NaN       NaN       NaN       NaN   \n",
       "3           fiy       NaN       NaN       NaN       NaN       NaN       NaN   \n",
       "4       miroHAD  0.128168  0.089423  0.048100  0.105662  0.142594  0.198367   \n",
       "\n",
       "   Not_Found  Not_Supported_MADAMIRA  Not_Supported_POS  \n",
       "0        0.0                     0.0                0.0  \n",
       "1        1.0                     0.0                0.0  \n",
       "2        0.0                     1.0                0.0  \n",
       "3        0.0                     0.0                1.0  \n",
       "4        0.0                     0.0                0.0  "
      ]
     },
     "execution_count": 119,
     "metadata": {},
     "output_type": "execute_result"
    }
   ],
   "source": [
    "ar.sentence_dataframe"
   ]
  },
  {
   "cell_type": "code",
   "execution_count": 118,
   "metadata": {},
   "outputs": [
    {
     "data": {
      "text/plain": [
       "[0, 0, 0, 0, 1, 1]"
      ]
     },
     "execution_count": 118,
     "metadata": {},
     "output_type": "execute_result"
    }
   ],
   "source": [
    "info = ar.get_emotionScores_sentence('<inokilotirA_1;noun_prop $amil-a_1;verb jAylz fiy_1;prep miroHAD_1;noun',\n",
    "                                     norm=False,binary=True\n",
    "                                     ,threshold= 0.02)\n",
    "info"
   ]
  }
 ],
 "metadata": {
  "kernelspec": {
   "display_name": "Python 3",
   "language": "python",
   "name": "python3"
  },
  "language_info": {
   "codemirror_mode": {
    "name": "ipython",
    "version": 3
   },
   "file_extension": ".py",
   "mimetype": "text/x-python",
   "name": "python",
   "nbconvert_exporter": "python",
   "pygments_lexer": "ipython3",
   "version": "3.6.5"
  }
 },
 "nbformat": 4,
 "nbformat_minor": 2
}
