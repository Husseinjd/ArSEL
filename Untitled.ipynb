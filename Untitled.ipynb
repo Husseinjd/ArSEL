{
 "cells": [
  {
   "cell_type": "code",
   "execution_count": 1,
   "metadata": {},
   "outputs": [],
   "source": [
    "%load_ext autoreload\n",
    "%autoreload 2"
   ]
  },
  {
   "cell_type": "code",
   "execution_count": 2,
   "metadata": {},
   "outputs": [],
   "source": [
    "import pandas as pd\n",
    "import numpy as np\n",
    "import seaborn as sns\n",
    "import matplotlib.pyplot as plt\n",
    "from sklearn.metrics import confusion_matrix\n",
    "from data_utils import load_scores_data,load_text_xml,check_arsenl_data,check_duplicates_per_pos\n",
    "from info import view_text_by_results"
   ]
  },
  {
   "cell_type": "code",
   "execution_count": 3,
   "metadata": {},
   "outputs": [],
   "source": [
    "scores =load_scores_data('datasets/affectivetext_test.emotions.gold.csv')\n",
    "sent = load_text_xml('datasets/affectivetext_test.xml')"
   ]
  },
  {
   "cell_type": "code",
   "execution_count": 4,
   "metadata": {},
   "outputs": [
    {
     "data": {
      "text/html": [
       "<div>\n",
       "<style scoped>\n",
       "    .dataframe tbody tr th:only-of-type {\n",
       "        vertical-align: middle;\n",
       "    }\n",
       "\n",
       "    .dataframe tbody tr th {\n",
       "        vertical-align: top;\n",
       "    }\n",
       "\n",
       "    .dataframe thead th {\n",
       "        text-align: right;\n",
       "    }\n",
       "</style>\n",
       "<table border=\"1\" class=\"dataframe\">\n",
       "  <thead>\n",
       "    <tr style=\"text-align: right;\">\n",
       "      <th></th>\n",
       "      <th>id</th>\n",
       "      <th>anger</th>\n",
       "      <th>disgust</th>\n",
       "      <th>fear</th>\n",
       "      <th>joy</th>\n",
       "      <th>sadness</th>\n",
       "      <th>surprise</th>\n",
       "    </tr>\n",
       "  </thead>\n",
       "  <tbody>\n",
       "    <tr>\n",
       "      <th>count</th>\n",
       "      <td>1000.000000</td>\n",
       "      <td>1000.000000</td>\n",
       "      <td>1000.000000</td>\n",
       "      <td>1000.000000</td>\n",
       "      <td>1000.00000</td>\n",
       "      <td>1000.000000</td>\n",
       "      <td>1000.000000</td>\n",
       "    </tr>\n",
       "    <tr>\n",
       "      <th>mean</th>\n",
       "      <td>999.500000</td>\n",
       "      <td>8.563000</td>\n",
       "      <td>5.076000</td>\n",
       "      <td>16.144000</td>\n",
       "      <td>19.00300</td>\n",
       "      <td>18.494000</td>\n",
       "      <td>18.624000</td>\n",
       "    </tr>\n",
       "    <tr>\n",
       "      <th>std</th>\n",
       "      <td>288.819436</td>\n",
       "      <td>13.503347</td>\n",
       "      <td>10.027201</td>\n",
       "      <td>20.400182</td>\n",
       "      <td>21.08553</td>\n",
       "      <td>22.646077</td>\n",
       "      <td>14.165991</td>\n",
       "    </tr>\n",
       "    <tr>\n",
       "      <th>min</th>\n",
       "      <td>500.000000</td>\n",
       "      <td>0.000000</td>\n",
       "      <td>0.000000</td>\n",
       "      <td>0.000000</td>\n",
       "      <td>0.00000</td>\n",
       "      <td>0.000000</td>\n",
       "      <td>0.000000</td>\n",
       "    </tr>\n",
       "    <tr>\n",
       "      <th>25%</th>\n",
       "      <td>749.750000</td>\n",
       "      <td>0.000000</td>\n",
       "      <td>0.000000</td>\n",
       "      <td>0.000000</td>\n",
       "      <td>0.00000</td>\n",
       "      <td>0.000000</td>\n",
       "      <td>8.000000</td>\n",
       "    </tr>\n",
       "    <tr>\n",
       "      <th>50%</th>\n",
       "      <td>999.500000</td>\n",
       "      <td>1.000000</td>\n",
       "      <td>0.000000</td>\n",
       "      <td>8.000000</td>\n",
       "      <td>12.00000</td>\n",
       "      <td>11.000000</td>\n",
       "      <td>16.000000</td>\n",
       "    </tr>\n",
       "    <tr>\n",
       "      <th>75%</th>\n",
       "      <td>1249.250000</td>\n",
       "      <td>12.250000</td>\n",
       "      <td>7.000000</td>\n",
       "      <td>24.000000</td>\n",
       "      <td>35.00000</td>\n",
       "      <td>27.000000</td>\n",
       "      <td>25.000000</td>\n",
       "    </tr>\n",
       "    <tr>\n",
       "      <th>max</th>\n",
       "      <td>1499.000000</td>\n",
       "      <td>71.000000</td>\n",
       "      <td>87.000000</td>\n",
       "      <td>92.000000</td>\n",
       "      <td>84.00000</td>\n",
       "      <td>96.000000</td>\n",
       "      <td>87.000000</td>\n",
       "    </tr>\n",
       "  </tbody>\n",
       "</table>\n",
       "</div>"
      ],
      "text/plain": [
       "                id        anger      disgust         fear         joy  \\\n",
       "count  1000.000000  1000.000000  1000.000000  1000.000000  1000.00000   \n",
       "mean    999.500000     8.563000     5.076000    16.144000    19.00300   \n",
       "std     288.819436    13.503347    10.027201    20.400182    21.08553   \n",
       "min     500.000000     0.000000     0.000000     0.000000     0.00000   \n",
       "25%     749.750000     0.000000     0.000000     0.000000     0.00000   \n",
       "50%     999.500000     1.000000     0.000000     8.000000    12.00000   \n",
       "75%    1249.250000    12.250000     7.000000    24.000000    35.00000   \n",
       "max    1499.000000    71.000000    87.000000    92.000000    84.00000   \n",
       "\n",
       "           sadness     surprise  \n",
       "count  1000.000000  1000.000000  \n",
       "mean     18.494000    18.624000  \n",
       "std      22.646077    14.165991  \n",
       "min       0.000000     0.000000  \n",
       "25%       0.000000     8.000000  \n",
       "50%      11.000000    16.000000  \n",
       "75%      27.000000    25.000000  \n",
       "max      96.000000    87.000000  "
      ]
     },
     "execution_count": 4,
     "metadata": {},
     "output_type": "execute_result"
    }
   ],
   "source": [
    "scores.describe()"
   ]
  },
  {
   "cell_type": "code",
   "execution_count": 5,
   "metadata": {},
   "outputs": [],
   "source": [
    "#sns.pairplot(scores.iloc[:,1:],diag_kind='hist')"
   ]
  },
  {
   "cell_type": "code",
   "execution_count": 6,
   "metadata": {},
   "outputs": [],
   "source": [
    "#corr =scores.iloc[:,1:].corr()\n",
    "#plt.figure(figsize=(10,7))\n",
    "#sns.heatmap(corr, \n",
    "      #      xticklabels=corr.columns.values,\n",
    "      #      yticklabels=corr.columns.values,annot=True)"
   ]
  },
  {
   "cell_type": "code",
   "execution_count": 7,
   "metadata": {},
   "outputs": [],
   "source": [
    "#sns.boxplot(data=scores.iloc[:,1:])"
   ]
  },
  {
   "cell_type": "code",
   "execution_count": null,
   "metadata": {},
   "outputs": [],
   "source": []
  },
  {
   "cell_type": "code",
   "execution_count": 8,
   "metadata": {},
   "outputs": [
    {
     "name": "stdout",
     "output_type": "stream",
     "text": [
      "max anger: Israeli woman's tirade spurs PM outrage\n",
      "max disgust: Teacher charged with sex assault\n",
      "max fear: UK workers on alert for letter bombs\n",
      "max joy: Families celebrate return of sons\n",
      "max sadness: Iraqi death toll exceeded 34,000 in 2006, United Nations says\n",
      "max surprise: Man rides stationary bike for 85 hours\n",
      "--------------------------------\n",
      "min anger: Test to predict breast cancer relapse is approved\n",
      "min disgust: Test to predict breast cancer relapse is approved\n",
      "min fear: Sights and sounds from CES\n",
      "min joy: Trucks swallowed in subway collapse\n",
      "min sadness: Sights and sounds from CES\n",
      "min surprise: Golden Globes on their way\n"
     ]
    }
   ],
   "source": [
    "for col in scores.columns[1:]:\n",
    "    print('max '+col + ': ' + view_text_by_results(scores,sent,col,max))\n",
    "print('--------------------------------')\n",
    "for col in scores.columns[1:]:\n",
    "    print('min '+col + ': ' + view_text_by_results(scores,sent,col,min))"
   ]
  },
  {
   "cell_type": "code",
   "execution_count": 9,
   "metadata": {},
   "outputs": [
    {
     "name": "stdout",
     "output_type": "stream",
     "text": [
      "'arsel/arsenl_a.txt'\n",
      "'arsel/arsenl_v.txt'\n",
      "'arsel/arsenl_r.txt'\n",
      "'arsel/arsenl_n.txt'\n"
     ]
    }
   ],
   "source": [
    "for i in 'avrn':\n",
    "    print('\\'arsel/arsenl_'+i+'.txt\\'')\n",
    "   # check_arsenl_data('arsel/arsenl_'+i+'.txt')\n",
    "    #check_duplicates_per_pos('arsel/arsenl_'+i+'.txt')"
   ]
  },
  {
   "cell_type": "code",
   "execution_count": 10,
   "metadata": {},
   "outputs": [],
   "source": [
    "from arsel import Arsel\n",
    "adj ='arsel/arsenl_a.txt'\n",
    "verb ='arsel/arsenl_v.txt'\n",
    "adv = 'arsel/arsenl_r.txt'\n",
    "nouns = 'arsel/arsenl_n.txt'\n",
    "ar_binary = Arsel(adj,nouns,verb,adv,binary=True)"
   ]
  },
  {
   "cell_type": "code",
   "execution_count": 11,
   "metadata": {},
   "outputs": [
    {
     "data": {
      "text/plain": [
       "[0, 1, 0, 0, 0, 1]"
      ]
     },
     "execution_count": 11,
     "metadata": {},
     "output_type": "execute_result"
    }
   ],
   "source": [
    "ar_binary.get_emotionScores('hAjis','noun')"
   ]
  },
  {
   "cell_type": "code",
   "execution_count": 13,
   "metadata": {},
   "outputs": [
    {
     "name": "stderr",
     "output_type": "stream",
     "text": [
      "C:\\Users\\PC\\Desktop\\Arsel\\data_utils.py:173: RuntimeWarning: invalid value encountered in true_divide\n",
      "  a = (a-min(a)) / (max(a)-min(a))\n"
     ]
    }
   ],
   "source": [
    "ar_norm = Arsel(adj,nouns,verb,adv,norm=True)"
   ]
  },
  {
   "cell_type": "code",
   "execution_count": 14,
   "metadata": {},
   "outputs": [
    {
     "data": {
      "text/plain": [
       "[0.1424392725021087,\n",
       " 0.31326827511475747,\n",
       " 0.0,\n",
       " 0.15955796636728084,\n",
       " 0.038421179830477985,\n",
       " 1.0]"
      ]
     },
     "execution_count": 14,
     "metadata": {},
     "output_type": "execute_result"
    }
   ],
   "source": [
    "ar_norm.get_emotionScores('hAjis','noun')"
   ]
  },
  {
   "cell_type": "code",
   "execution_count": null,
   "metadata": {},
   "outputs": [],
   "source": []
  }
 ],
 "metadata": {
  "kernelspec": {
   "display_name": "Python 3",
   "language": "python",
   "name": "python3"
  },
  "language_info": {
   "codemirror_mode": {
    "name": "ipython",
    "version": 3
   },
   "file_extension": ".py",
   "mimetype": "text/x-python",
   "name": "python",
   "nbconvert_exporter": "python",
   "pygments_lexer": "ipython3",
   "version": "3.6.5"
  }
 },
 "nbformat": 4,
 "nbformat_minor": 2
}
